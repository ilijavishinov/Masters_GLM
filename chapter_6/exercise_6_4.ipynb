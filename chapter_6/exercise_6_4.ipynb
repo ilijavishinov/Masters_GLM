{
 "cells": [
  {
   "cell_type": "code",
   "execution_count": 53,
   "metadata": {
    "collapsed": true
   },
   "outputs": [
    {
     "data": {
      "text/plain": "    chol  age   bmi  const\n0   5.94   52  20.7      1\n1   4.71   46  21.3      1\n2   5.86   51  25.4      1\n3   6.52   44  22.7      1\n4   6.80   70  23.9      1\n5   5.23   33  24.3      1\n6   4.97   21  22.2      1\n7   8.78   63  26.2      1\n8   5.13   56  23.3      1\n9   6.74   54  29.2      1\n10  5.95   44  22.7      1\n11  5.83   71  21.9      1\n12  5.74   39  22.4      1\n13  4.92   58  20.2      1\n14  6.69   58  24.4      1\n15  6.48   65  26.3      1\n16  8.83   76  22.7      1\n17  5.10   47  21.5      1\n18  5.81   43  20.7      1\n19  4.65   30  18.9      1\n20  6.82   58  23.9      1\n21  6.28   78  24.3      1\n22  5.15   49  23.8      1\n23  2.92   36  19.6      1\n24  9.27   67  24.3      1\n25  5.57   42  22.0      1\n26  4.92   29  22.5      1\n27  6.72   33  24.1      1\n28  5.57   42  22.7      1\n29  6.25   66  27.3      1",
      "text/html": "<div>\n<style scoped>\n    .dataframe tbody tr th:only-of-type {\n        vertical-align: middle;\n    }\n\n    .dataframe tbody tr th {\n        vertical-align: top;\n    }\n\n    .dataframe thead th {\n        text-align: right;\n    }\n</style>\n<table border=\"1\" class=\"dataframe\">\n  <thead>\n    <tr style=\"text-align: right;\">\n      <th></th>\n      <th>chol</th>\n      <th>age</th>\n      <th>bmi</th>\n      <th>const</th>\n    </tr>\n  </thead>\n  <tbody>\n    <tr>\n      <th>0</th>\n      <td>5.94</td>\n      <td>52</td>\n      <td>20.7</td>\n      <td>1</td>\n    </tr>\n    <tr>\n      <th>1</th>\n      <td>4.71</td>\n      <td>46</td>\n      <td>21.3</td>\n      <td>1</td>\n    </tr>\n    <tr>\n      <th>2</th>\n      <td>5.86</td>\n      <td>51</td>\n      <td>25.4</td>\n      <td>1</td>\n    </tr>\n    <tr>\n      <th>3</th>\n      <td>6.52</td>\n      <td>44</td>\n      <td>22.7</td>\n      <td>1</td>\n    </tr>\n    <tr>\n      <th>4</th>\n      <td>6.80</td>\n      <td>70</td>\n      <td>23.9</td>\n      <td>1</td>\n    </tr>\n    <tr>\n      <th>5</th>\n      <td>5.23</td>\n      <td>33</td>\n      <td>24.3</td>\n      <td>1</td>\n    </tr>\n    <tr>\n      <th>6</th>\n      <td>4.97</td>\n      <td>21</td>\n      <td>22.2</td>\n      <td>1</td>\n    </tr>\n    <tr>\n      <th>7</th>\n      <td>8.78</td>\n      <td>63</td>\n      <td>26.2</td>\n      <td>1</td>\n    </tr>\n    <tr>\n      <th>8</th>\n      <td>5.13</td>\n      <td>56</td>\n      <td>23.3</td>\n      <td>1</td>\n    </tr>\n    <tr>\n      <th>9</th>\n      <td>6.74</td>\n      <td>54</td>\n      <td>29.2</td>\n      <td>1</td>\n    </tr>\n    <tr>\n      <th>10</th>\n      <td>5.95</td>\n      <td>44</td>\n      <td>22.7</td>\n      <td>1</td>\n    </tr>\n    <tr>\n      <th>11</th>\n      <td>5.83</td>\n      <td>71</td>\n      <td>21.9</td>\n      <td>1</td>\n    </tr>\n    <tr>\n      <th>12</th>\n      <td>5.74</td>\n      <td>39</td>\n      <td>22.4</td>\n      <td>1</td>\n    </tr>\n    <tr>\n      <th>13</th>\n      <td>4.92</td>\n      <td>58</td>\n      <td>20.2</td>\n      <td>1</td>\n    </tr>\n    <tr>\n      <th>14</th>\n      <td>6.69</td>\n      <td>58</td>\n      <td>24.4</td>\n      <td>1</td>\n    </tr>\n    <tr>\n      <th>15</th>\n      <td>6.48</td>\n      <td>65</td>\n      <td>26.3</td>\n      <td>1</td>\n    </tr>\n    <tr>\n      <th>16</th>\n      <td>8.83</td>\n      <td>76</td>\n      <td>22.7</td>\n      <td>1</td>\n    </tr>\n    <tr>\n      <th>17</th>\n      <td>5.10</td>\n      <td>47</td>\n      <td>21.5</td>\n      <td>1</td>\n    </tr>\n    <tr>\n      <th>18</th>\n      <td>5.81</td>\n      <td>43</td>\n      <td>20.7</td>\n      <td>1</td>\n    </tr>\n    <tr>\n      <th>19</th>\n      <td>4.65</td>\n      <td>30</td>\n      <td>18.9</td>\n      <td>1</td>\n    </tr>\n    <tr>\n      <th>20</th>\n      <td>6.82</td>\n      <td>58</td>\n      <td>23.9</td>\n      <td>1</td>\n    </tr>\n    <tr>\n      <th>21</th>\n      <td>6.28</td>\n      <td>78</td>\n      <td>24.3</td>\n      <td>1</td>\n    </tr>\n    <tr>\n      <th>22</th>\n      <td>5.15</td>\n      <td>49</td>\n      <td>23.8</td>\n      <td>1</td>\n    </tr>\n    <tr>\n      <th>23</th>\n      <td>2.92</td>\n      <td>36</td>\n      <td>19.6</td>\n      <td>1</td>\n    </tr>\n    <tr>\n      <th>24</th>\n      <td>9.27</td>\n      <td>67</td>\n      <td>24.3</td>\n      <td>1</td>\n    </tr>\n    <tr>\n      <th>25</th>\n      <td>5.57</td>\n      <td>42</td>\n      <td>22.0</td>\n      <td>1</td>\n    </tr>\n    <tr>\n      <th>26</th>\n      <td>4.92</td>\n      <td>29</td>\n      <td>22.5</td>\n      <td>1</td>\n    </tr>\n    <tr>\n      <th>27</th>\n      <td>6.72</td>\n      <td>33</td>\n      <td>24.1</td>\n      <td>1</td>\n    </tr>\n    <tr>\n      <th>28</th>\n      <td>5.57</td>\n      <td>42</td>\n      <td>22.7</td>\n      <td>1</td>\n    </tr>\n    <tr>\n      <th>29</th>\n      <td>6.25</td>\n      <td>66</td>\n      <td>27.3</td>\n      <td>1</td>\n    </tr>\n  </tbody>\n</table>\n</div>"
     },
     "execution_count": 53,
     "metadata": {},
     "output_type": "execute_result"
    }
   ],
   "source": [
    "import pandas as pd\n",
    "import statsmodels.api as sm\n",
    "df = pd.read_csv('data_6_4.csv')\n",
    "df['const'] = 1\n",
    "df"
   ]
  },
  {
   "cell_type": "code",
   "execution_count": 54,
   "outputs": [
    {
     "name": "stdout",
     "output_type": "stream",
     "text": [
      "                 Generalized Linear Model Regression Results                  \n",
      "==============================================================================\n",
      "Dep. Variable:                      y   No. Observations:                   30\n",
      "Model:                            GLM   Df Residuals:                       28\n",
      "Model Family:                   Gamma   Df Model:                            1\n",
      "Link Function:          inverse_power   Scale:                        0.029757\n",
      "Method:                          IRLS   Log-Likelihood:                -42.884\n",
      "Date:                Sat, 30 Apr 2022   Deviance:                      0.88536\n",
      "Time:                        00:14:47   Pearson chi2:                    0.833\n",
      "No. Iterations:                     6   Pseudo R-squ. (CS):             0.4283\n",
      "Covariance Type:            nonrobust                                         \n",
      "==============================================================================\n",
      "                 coef    std err          z      P>|z|      [0.025      0.975]\n",
      "------------------------------------------------------------------------------\n",
      "age           -0.0015      0.000     -4.108      0.000      -0.002      -0.001\n",
      "const          0.2440      0.020     12.073      0.000       0.204       0.284\n",
      "==============================================================================\n"
     ]
    },
    {
     "name": "stderr",
     "output_type": "stream",
     "text": [
      "c:\\users\\ilija\\onedrive\\desktop\\rm\\exercises\\venv\\lib\\site-packages\\statsmodels\\genmod\\generalized_linear_model.py:298: DomainWarning: The inverse_power link function does not respect the domain of the Gamma family.\n",
      "  warnings.warn((f\"The {type(family.link).__name__} link function \"\n"
     ]
    }
   ],
   "source": [
    "model_age = sm.GLM(df['chol'].to_numpy(), df[['age', 'const']], family = sm.families.Gamma())\n",
    "results_age = model_age.fit()\n",
    "print(results_age.summary())"
   ],
   "metadata": {
    "collapsed": false,
    "pycharm": {
     "name": "#%%\n"
    }
   }
  },
  {
   "cell_type": "code",
   "execution_count": 55,
   "outputs": [
    {
     "name": "stdout",
     "output_type": "stream",
     "text": [
      "                 Generalized Linear Model Regression Results                  \n",
      "==============================================================================\n",
      "Dep. Variable:                      y   No. Observations:                   30\n",
      "Model:                            GLM   Df Residuals:                       27\n",
      "Model Family:                   Gamma   Df Model:                            2\n",
      "Link Function:          inverse_power   Scale:                        0.026578\n",
      "Method:                          IRLS   Log-Likelihood:                -40.317\n",
      "Date:                Sat, 30 Apr 2022   Deviance:                      0.74482\n",
      "Time:                        00:14:47   Pearson chi2:                    0.718\n",
      "No. Iterations:                     6   Pseudo R-squ. (CS):             0.5517\n",
      "Covariance Type:            nonrobust                                         \n",
      "==============================================================================\n",
      "                 coef    std err          z      P>|z|      [0.025      0.975]\n",
      "------------------------------------------------------------------------------\n",
      "age           -0.0012      0.000     -3.158      0.002      -0.002      -0.000\n",
      "bmi           -0.0053      0.002     -2.341      0.019      -0.010      -0.001\n",
      "const          0.3526      0.050      6.990      0.000       0.254       0.451\n",
      "==============================================================================\n"
     ]
    },
    {
     "name": "stderr",
     "output_type": "stream",
     "text": [
      "c:\\users\\ilija\\onedrive\\desktop\\rm\\exercises\\venv\\lib\\site-packages\\statsmodels\\genmod\\generalized_linear_model.py:298: DomainWarning: The inverse_power link function does not respect the domain of the Gamma family.\n",
      "  warnings.warn((f\"The {type(family.link).__name__} link function \"\n"
     ]
    }
   ],
   "source": [
    "model_age_bmi = sm.GLM(df['chol'].to_numpy(), df[['age', 'bmi', 'const']], family = sm.families.Gamma())\n",
    "results_age_bmi = model_age_bmi.fit()\n",
    "print(results_age_bmi.summary())"
   ],
   "metadata": {
    "collapsed": false,
    "pycharm": {
     "name": "#%%\n"
    }
   }
  },
  {
   "cell_type": "code",
   "execution_count": 56,
   "outputs": [],
   "source": [
    "D0, D1 = results_age.deviance, results_age_bmi.deviance\n",
    "dof0, dof1 = results_age.df_resid, results_age_bmi.df_resid"
   ],
   "metadata": {
    "collapsed": false,
    "pycharm": {
     "name": "#%%\n"
    }
   }
  },
  {
   "cell_type": "code",
   "execution_count": 57,
   "outputs": [
    {
     "data": {
      "text/plain": "5.094818033664616"
     },
     "execution_count": 57,
     "metadata": {},
     "output_type": "execute_result"
    }
   ],
   "source": [
    "F = ((D0 - D1) / (dof0 - dof1)) / (D1 / dof1)\n",
    "F"
   ],
   "metadata": {
    "collapsed": false,
    "pycharm": {
     "name": "#%%\n"
    }
   }
  },
  {
   "cell_type": "code",
   "execution_count": 58,
   "outputs": [
    {
     "data": {
      "text/plain": "[<matplotlib.lines.Line2D at 0x158df69ea00>]"
     },
     "execution_count": 58,
     "metadata": {},
     "output_type": "execute_result"
    },
    {
     "data": {
      "text/plain": "<Figure size 432x288 with 1 Axes>",
      "image/png": "[encoded data removed]"
     },
     "metadata": {
      "needs_background": "light"
     },
     "output_type": "display_data"
    }
   ],
   "source": [
    "import numpy as np\n",
    "from scipy.stats import f\n",
    "import matplotlib.pyplot as plt\n",
    "x = np.linspace(f.ppf(0.01, dof0 - dof1, dof1),\n",
    "                f.ppf(0.99, dof0 - dof1, dof1), 200)\n",
    "y = np.array([f.pdf(x_i, dof0 - dof1, dof1) for x_i in x])\n",
    "plt.plot(x, y)"
   ],
   "metadata": {
    "collapsed": false,
    "pycharm": {
     "name": "#%%\n"
    }
   }
  },
  {
   "cell_type": "code",
   "execution_count": 59,
   "outputs": [
    {
     "name": "stdout",
     "output_type": "stream",
     "text": [
      "reject null at 5% significance: True\n"
     ]
    }
   ],
   "source": [
    "c = f.ppf(0.95, dof0 - dof1, dof1)\n",
    "reject_null = F > c\n",
    "print(f'reject null at 5% significance: {reject_null}')"
   ],
   "metadata": {
    "collapsed": false,
    "pycharm": {
     "name": "#%%\n"
    }
   }
  }
 ],
 "metadata": {
  "kernelspec": {
   "display_name": "Python 3",
   "language": "python",
   "name": "python3"
  },
  "language_info": {
   "codemirror_mode": {
    "name": "ipython",
    "version": 2
   },
   "file_extension": ".py",
   "mimetype": "text/x-python",
   "name": "python",
   "nbconvert_exporter": "python",
   "pygments_lexer": "ipython2",
   "version": "2.7.6"
  }
 },
 "nbformat": 4,
 "nbformat_minor": 0
}