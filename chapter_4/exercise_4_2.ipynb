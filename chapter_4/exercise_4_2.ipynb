{
 "cells": [
  {
   "cell_type": "code",
   "execution_count": 46,
   "metadata": {
    "collapsed": true
   },
   "outputs": [
    {
     "data": {
      "text/plain": "      y     x\n0    65  3.36\n1   156  2.88\n2   100  3.63\n3   134  3.41\n4    16  3.78\n5   108  4.02\n6   121  4.00\n7     4  4.23\n8    39  3.73\n9   143  3.85\n10   56  3.97\n11   26  4.51\n12   22  4.54\n13    1  5.00\n14    1  5.00\n15    5  4.72\n16   65  5.00",
      "text/html": "<div>\n<style scoped>\n    .dataframe tbody tr th:only-of-type {\n        vertical-align: middle;\n    }\n\n    .dataframe tbody tr th {\n        vertical-align: top;\n    }\n\n    .dataframe thead th {\n        text-align: right;\n    }\n</style>\n<table border=\"1\" class=\"dataframe\">\n  <thead>\n    <tr style=\"text-align: right;\">\n      <th></th>\n      <th>y</th>\n      <th>x</th>\n    </tr>\n  </thead>\n  <tbody>\n    <tr>\n      <th>0</th>\n      <td>65</td>\n      <td>3.36</td>\n    </tr>\n    <tr>\n      <th>1</th>\n      <td>156</td>\n      <td>2.88</td>\n    </tr>\n    <tr>\n      <th>2</th>\n      <td>100</td>\n      <td>3.63</td>\n    </tr>\n    <tr>\n      <th>3</th>\n      <td>134</td>\n      <td>3.41</td>\n    </tr>\n    <tr>\n      <th>4</th>\n      <td>16</td>\n      <td>3.78</td>\n    </tr>\n    <tr>\n      <th>5</th>\n      <td>108</td>\n      <td>4.02</td>\n    </tr>\n    <tr>\n      <th>6</th>\n      <td>121</td>\n      <td>4.00</td>\n    </tr>\n    <tr>\n      <th>7</th>\n      <td>4</td>\n      <td>4.23</td>\n    </tr>\n    <tr>\n      <th>8</th>\n      <td>39</td>\n      <td>3.73</td>\n    </tr>\n    <tr>\n      <th>9</th>\n      <td>143</td>\n      <td>3.85</td>\n    </tr>\n    <tr>\n      <th>10</th>\n      <td>56</td>\n      <td>3.97</td>\n    </tr>\n    <tr>\n      <th>11</th>\n      <td>26</td>\n      <td>4.51</td>\n    </tr>\n    <tr>\n      <th>12</th>\n      <td>22</td>\n      <td>4.54</td>\n    </tr>\n    <tr>\n      <th>13</th>\n      <td>1</td>\n      <td>5.00</td>\n    </tr>\n    <tr>\n      <th>14</th>\n      <td>1</td>\n      <td>5.00</td>\n    </tr>\n    <tr>\n      <th>15</th>\n      <td>5</td>\n      <td>4.72</td>\n    </tr>\n    <tr>\n      <th>16</th>\n      <td>65</td>\n      <td>5.00</td>\n    </tr>\n  </tbody>\n</table>\n</div>"
     },
     "execution_count": 46,
     "metadata": {},
     "output_type": "execute_result"
    }
   ],
   "source": [
    "import pandas as pd\n",
    "import matplotlib.pyplot as plt\n",
    "df = pd.read_excel('data_4_2.xlsx')\n",
    "df"
   ]
  },
  {
   "cell_type": "code",
   "execution_count": 47,
   "outputs": [
    {
     "data": {
      "text/plain": "<matplotlib.collections.PathCollection at 0x267fdff0970>"
     },
     "execution_count": 47,
     "metadata": {},
     "output_type": "execute_result"
    },
    {
     "data": {
      "text/plain": "<Figure size 432x288 with 1 Axes>",
      "image/png": "[encoded data removed]"
     },
     "metadata": {
      "needs_background": "light"
     },
     "output_type": "display_data"
    }
   ],
   "source": [
    "plt.scatter(df['x'], df['y'])"
   ],
   "metadata": {
    "collapsed": false,
    "pycharm": {
     "name": "#%%\n"
    }
   }
  },
  {
   "cell_type": "code",
   "execution_count": 53,
   "outputs": [
    {
     "data": {
      "text/plain": "<matplotlib.collections.PathCollection at 0x267fe059cd0>"
     },
     "execution_count": 53,
     "metadata": {},
     "output_type": "execute_result"
    },
    {
     "data": {
      "text/plain": "<Figure size 432x288 with 1 Axes>",
      "image/png": "[encoded data removed]"
     },
     "metadata": {
      "needs_background": "light"
     },
     "output_type": "display_data"
    }
   ],
   "source": [
    "plt.scatter(df['x'], results.mu)"
   ],
   "metadata": {
    "collapsed": false,
    "pycharm": {
     "name": "#%%\n"
    }
   }
  },
  {
   "cell_type": "code",
   "execution_count": 48,
   "outputs": [
    {
     "data": {
      "text/plain": "(array([4., 0., 1., 0., 2., 0., 0., 1., 0., 0., 1., 0., 2., 0., 0., 0., 0.,\n        0., 0., 1., 1., 0., 0., 1., 0., 1., 0., 1., 0., 1.]),\n array([  1.        ,   6.16666667,  11.33333333,  16.5       ,\n         21.66666667,  26.83333333,  32.        ,  37.16666667,\n         42.33333333,  47.5       ,  52.66666667,  57.83333333,\n         63.        ,  68.16666667,  73.33333333,  78.5       ,\n         83.66666667,  88.83333333,  94.        ,  99.16666667,\n        104.33333333, 109.5       , 114.66666667, 119.83333333,\n        125.        , 130.16666667, 135.33333333, 140.5       ,\n        145.66666667, 150.83333333, 156.        ]),\n <BarContainer object of 30 artists>)"
     },
     "execution_count": 48,
     "metadata": {},
     "output_type": "execute_result"
    },
    {
     "data": {
      "text/plain": "<Figure size 432x288 with 1 Axes>",
      "image/png": "[encoded data removed]"
     },
     "metadata": {
      "needs_background": "light"
     },
     "output_type": "display_data"
    }
   ],
   "source": [
    "plt.hist(df['y'], bins = 30)"
   ],
   "metadata": {
    "collapsed": false,
    "pycharm": {
     "name": "#%%\n"
    }
   }
  },
  {
   "cell_type": "code",
   "execution_count": 61,
   "outputs": [
    {
     "name": "stdout",
     "output_type": "stream",
     "text": [
      "                 Generalized Linear Model Regression Results                  \n",
      "==============================================================================\n",
      "Dep. Variable:                      y   No. Observations:                   17\n",
      "Model:                            GLM   Df Residuals:                       16\n",
      "Model Family:                   Gamma   Df Model:                            0\n",
      "Link Function:                    Log   Scale:                          2.7513\n",
      "Method:                          IRLS   Log-Likelihood:                -93.070\n",
      "Date:                Fri, 29 Apr 2022   Deviance:                       45.490\n",
      "Time:                        20:28:54   Pearson chi2:                     44.0\n",
      "No. Iterations:                    16   Pseudo R-squ. (CS):            -0.5078\n",
      "Covariance Type:            nonrobust                                         \n",
      "==============================================================================\n",
      "                 coef    std err          z      P>|z|      [0.025      0.975]\n",
      "------------------------------------------------------------------------------\n",
      "x1             1.1024      0.097     11.346      0.000       0.912       1.293\n",
      "==============================================================================\n"
     ]
    }
   ],
   "source": [
    "import statsmodels.api as sm\n",
    "model = sm.GLM(df['y'].to_numpy(), df['x'].to_numpy().reshape(17,-1), family = sm.families.Gamma(link = sm.genmod.families.links.Log()))\n",
    "results = model.fit()\n",
    "print(results.summary())"
   ],
   "metadata": {
    "collapsed": false,
    "pycharm": {
     "name": "#%%\n"
    }
   }
  },
  {
   "cell_type": "code",
   "execution_count": 62,
   "outputs": [
    {
     "ename": "LinAlgError",
     "evalue": "3-dimensional array given. Array must be two-dimensional",
     "output_type": "error",
     "traceback": [
      "\u001B[1;31m---------------------------------------------------------------------------\u001B[0m",
      "\u001B[1;31mLinAlgError\u001B[0m                               Traceback (most recent call last)",
      "Input \u001B[1;32mIn [62]\u001B[0m, in \u001B[0;36m<cell line: 1>\u001B[1;34m()\u001B[0m\n\u001B[1;32m----> 1\u001B[0m \u001B[43mresults\u001B[49m\u001B[38;5;241;43m.\u001B[39;49m\u001B[43mmodel\u001B[49m\u001B[38;5;241;43m.\u001B[39;49m\u001B[43mfit\u001B[49m\u001B[43m(\u001B[49m\u001B[43mdf\u001B[49m\u001B[43m[\u001B[49m\u001B[38;5;124;43m'\u001B[39;49m\u001B[38;5;124;43mx\u001B[39;49m\u001B[38;5;124;43m'\u001B[39;49m\u001B[43m]\u001B[49m\u001B[38;5;241;43m.\u001B[39;49m\u001B[43mto_numpy\u001B[49m\u001B[43m(\u001B[49m\u001B[43m)\u001B[49m\u001B[38;5;241;43m.\u001B[39;49m\u001B[43mreshape\u001B[49m\u001B[43m(\u001B[49m\u001B[38;5;241;43m1\u001B[39;49m\u001B[43m,\u001B[49m\u001B[38;5;241;43m-\u001B[39;49m\u001B[38;5;241;43m1\u001B[39;49m\u001B[43m)\u001B[49m\u001B[43m)\u001B[49m\n",
      "File \u001B[1;32mc:\\users\\ilija\\onedrive\\desktop\\rm\\exercises\\venv\\lib\\site-packages\\statsmodels\\genmod\\generalized_linear_model.py:1075\u001B[0m, in \u001B[0;36mGLM.fit\u001B[1;34m(self, start_params, maxiter, method, tol, scale, cov_type, cov_kwds, use_t, full_output, disp, max_start_irls, **kwargs)\u001B[0m\n\u001B[0;32m   1073\u001B[0m     \u001B[38;5;28;01mif\u001B[39;00m cov_type\u001B[38;5;241m.\u001B[39mlower() \u001B[38;5;241m==\u001B[39m \u001B[38;5;124m'\u001B[39m\u001B[38;5;124meim\u001B[39m\u001B[38;5;124m'\u001B[39m:\n\u001B[0;32m   1074\u001B[0m         cov_type \u001B[38;5;241m=\u001B[39m \u001B[38;5;124m'\u001B[39m\u001B[38;5;124mnonrobust\u001B[39m\u001B[38;5;124m'\u001B[39m\n\u001B[1;32m-> 1075\u001B[0m     \u001B[38;5;28;01mreturn\u001B[39;00m \u001B[38;5;28;43mself\u001B[39;49m\u001B[38;5;241;43m.\u001B[39;49m\u001B[43m_fit_irls\u001B[49m\u001B[43m(\u001B[49m\u001B[43mstart_params\u001B[49m\u001B[38;5;241;43m=\u001B[39;49m\u001B[43mstart_params\u001B[49m\u001B[43m,\u001B[49m\u001B[43m \u001B[49m\u001B[43mmaxiter\u001B[49m\u001B[38;5;241;43m=\u001B[39;49m\u001B[43mmaxiter\u001B[49m\u001B[43m,\u001B[49m\n\u001B[0;32m   1076\u001B[0m \u001B[43m                          \u001B[49m\u001B[43mtol\u001B[49m\u001B[38;5;241;43m=\u001B[39;49m\u001B[43mtol\u001B[49m\u001B[43m,\u001B[49m\u001B[43m \u001B[49m\u001B[43mscale\u001B[49m\u001B[38;5;241;43m=\u001B[39;49m\u001B[43mscale\u001B[49m\u001B[43m,\u001B[49m\u001B[43m \u001B[49m\u001B[43mcov_type\u001B[49m\u001B[38;5;241;43m=\u001B[39;49m\u001B[43mcov_type\u001B[49m\u001B[43m,\u001B[49m\n\u001B[0;32m   1077\u001B[0m \u001B[43m                          \u001B[49m\u001B[43mcov_kwds\u001B[49m\u001B[38;5;241;43m=\u001B[39;49m\u001B[43mcov_kwds\u001B[49m\u001B[43m,\u001B[49m\u001B[43m \u001B[49m\u001B[43muse_t\u001B[49m\u001B[38;5;241;43m=\u001B[39;49m\u001B[43muse_t\u001B[49m\u001B[43m,\u001B[49m\u001B[43m \u001B[49m\u001B[38;5;241;43m*\u001B[39;49m\u001B[38;5;241;43m*\u001B[39;49m\u001B[43mkwargs\u001B[49m\u001B[43m)\u001B[49m\n\u001B[0;32m   1078\u001B[0m \u001B[38;5;28;01melse\u001B[39;00m:\n\u001B[0;32m   1079\u001B[0m     \u001B[38;5;28mself\u001B[39m\u001B[38;5;241m.\u001B[39m_optim_hessian \u001B[38;5;241m=\u001B[39m kwargs\u001B[38;5;241m.\u001B[39mget(\u001B[38;5;124m'\u001B[39m\u001B[38;5;124moptim_hessian\u001B[39m\u001B[38;5;124m'\u001B[39m)\n",
      "File \u001B[1;32mc:\\users\\ilija\\onedrive\\desktop\\rm\\exercises\\venv\\lib\\site-packages\\statsmodels\\genmod\\generalized_linear_model.py:1216\u001B[0m, in \u001B[0;36mGLM._fit_irls\u001B[1;34m(self, start_params, maxiter, tol, scale, cov_type, cov_kwds, use_t, **kwargs)\u001B[0m\n\u001B[0;32m   1211\u001B[0m wlsendog \u001B[38;5;241m=\u001B[39m (lin_pred \u001B[38;5;241m+\u001B[39m \u001B[38;5;28mself\u001B[39m\u001B[38;5;241m.\u001B[39mfamily\u001B[38;5;241m.\u001B[39mlink\u001B[38;5;241m.\u001B[39mderiv(mu) \u001B[38;5;241m*\u001B[39m (\u001B[38;5;28mself\u001B[39m\u001B[38;5;241m.\u001B[39mendog\u001B[38;5;241m-\u001B[39mmu)\n\u001B[0;32m   1212\u001B[0m             \u001B[38;5;241m-\u001B[39m \u001B[38;5;28mself\u001B[39m\u001B[38;5;241m.\u001B[39m_offset_exposure)\n\u001B[0;32m   1213\u001B[0m wls_mod \u001B[38;5;241m=\u001B[39m reg_tools\u001B[38;5;241m.\u001B[39m_MinimalWLS(wlsendog, wlsexog,\n\u001B[0;32m   1214\u001B[0m                                 \u001B[38;5;28mself\u001B[39m\u001B[38;5;241m.\u001B[39mweights, check_endog\u001B[38;5;241m=\u001B[39m\u001B[38;5;28;01mTrue\u001B[39;00m,\n\u001B[0;32m   1215\u001B[0m                                 check_weights\u001B[38;5;241m=\u001B[39m\u001B[38;5;28;01mTrue\u001B[39;00m)\n\u001B[1;32m-> 1216\u001B[0m wls_results \u001B[38;5;241m=\u001B[39m \u001B[43mwls_mod\u001B[49m\u001B[38;5;241;43m.\u001B[39;49m\u001B[43mfit\u001B[49m\u001B[43m(\u001B[49m\u001B[43mmethod\u001B[49m\u001B[38;5;241;43m=\u001B[39;49m\u001B[43mwls_method\u001B[49m\u001B[43m)\u001B[49m\n\u001B[0;32m   1217\u001B[0m lin_pred \u001B[38;5;241m=\u001B[39m np\u001B[38;5;241m.\u001B[39mdot(\u001B[38;5;28mself\u001B[39m\u001B[38;5;241m.\u001B[39mexog, wls_results\u001B[38;5;241m.\u001B[39mparams)\n\u001B[0;32m   1218\u001B[0m lin_pred \u001B[38;5;241m+\u001B[39m\u001B[38;5;241m=\u001B[39m \u001B[38;5;28mself\u001B[39m\u001B[38;5;241m.\u001B[39m_offset_exposure\n",
      "File \u001B[1;32mc:\\users\\ilija\\onedrive\\desktop\\rm\\exercises\\venv\\lib\\site-packages\\statsmodels\\regression\\_tools.py:101\u001B[0m, in \u001B[0;36m_MinimalWLS.fit\u001B[1;34m(self, method)\u001B[0m\n\u001B[0;32m     99\u001B[0m     params \u001B[38;5;241m=\u001B[39m np\u001B[38;5;241m.\u001B[39mlinalg\u001B[38;5;241m.\u001B[39msolve(R, np\u001B[38;5;241m.\u001B[39mdot(Q\u001B[38;5;241m.\u001B[39mT, \u001B[38;5;28mself\u001B[39m\u001B[38;5;241m.\u001B[39mwendog))\n\u001B[0;32m    100\u001B[0m \u001B[38;5;28;01melse\u001B[39;00m:\n\u001B[1;32m--> 101\u001B[0m     params, _, _, _ \u001B[38;5;241m=\u001B[39m \u001B[43mnp\u001B[49m\u001B[38;5;241;43m.\u001B[39;49m\u001B[43mlinalg\u001B[49m\u001B[38;5;241;43m.\u001B[39;49m\u001B[43mlstsq\u001B[49m\u001B[43m(\u001B[49m\u001B[38;5;28;43mself\u001B[39;49m\u001B[38;5;241;43m.\u001B[39;49m\u001B[43mwexog\u001B[49m\u001B[43m,\u001B[49m\u001B[43m \u001B[49m\u001B[38;5;28;43mself\u001B[39;49m\u001B[38;5;241;43m.\u001B[39;49m\u001B[43mwendog\u001B[49m\u001B[43m,\u001B[49m\n\u001B[0;32m    102\u001B[0m \u001B[43m                                      \u001B[49m\u001B[43mrcond\u001B[49m\u001B[38;5;241;43m=\u001B[39;49m\u001B[38;5;241;43m-\u001B[39;49m\u001B[38;5;241;43m1\u001B[39;49m\u001B[43m)\u001B[49m\n\u001B[0;32m    103\u001B[0m \u001B[38;5;28;01mreturn\u001B[39;00m \u001B[38;5;28mself\u001B[39m\u001B[38;5;241m.\u001B[39mresults(params)\n",
      "File \u001B[1;32m<__array_function__ internals>:180\u001B[0m, in \u001B[0;36mlstsq\u001B[1;34m(*args, **kwargs)\u001B[0m\n",
      "File \u001B[1;32mc:\\users\\ilija\\onedrive\\desktop\\rm\\exercises\\venv\\lib\\site-packages\\numpy\\linalg\\linalg.py:2259\u001B[0m, in \u001B[0;36mlstsq\u001B[1;34m(a, b, rcond)\u001B[0m\n\u001B[0;32m   2257\u001B[0m \u001B[38;5;28;01mif\u001B[39;00m is_1d:\n\u001B[0;32m   2258\u001B[0m     b \u001B[38;5;241m=\u001B[39m b[:, newaxis]\n\u001B[1;32m-> 2259\u001B[0m \u001B[43m_assert_2d\u001B[49m\u001B[43m(\u001B[49m\u001B[43ma\u001B[49m\u001B[43m,\u001B[49m\u001B[43m \u001B[49m\u001B[43mb\u001B[49m\u001B[43m)\u001B[49m\n\u001B[0;32m   2260\u001B[0m m, n \u001B[38;5;241m=\u001B[39m a\u001B[38;5;241m.\u001B[39mshape[\u001B[38;5;241m-\u001B[39m\u001B[38;5;241m2\u001B[39m:]\n\u001B[0;32m   2261\u001B[0m m2, n_rhs \u001B[38;5;241m=\u001B[39m b\u001B[38;5;241m.\u001B[39mshape[\u001B[38;5;241m-\u001B[39m\u001B[38;5;241m2\u001B[39m:]\n",
      "File \u001B[1;32mc:\\users\\ilija\\onedrive\\desktop\\rm\\exercises\\venv\\lib\\site-packages\\numpy\\linalg\\linalg.py:190\u001B[0m, in \u001B[0;36m_assert_2d\u001B[1;34m(*arrays)\u001B[0m\n\u001B[0;32m    188\u001B[0m \u001B[38;5;28;01mfor\u001B[39;00m a \u001B[38;5;129;01min\u001B[39;00m arrays:\n\u001B[0;32m    189\u001B[0m     \u001B[38;5;28;01mif\u001B[39;00m a\u001B[38;5;241m.\u001B[39mndim \u001B[38;5;241m!=\u001B[39m \u001B[38;5;241m2\u001B[39m:\n\u001B[1;32m--> 190\u001B[0m         \u001B[38;5;28;01mraise\u001B[39;00m LinAlgError(\u001B[38;5;124m'\u001B[39m\u001B[38;5;132;01m%d\u001B[39;00m\u001B[38;5;124m-dimensional array given. Array must be \u001B[39m\u001B[38;5;124m'\u001B[39m\n\u001B[0;32m    191\u001B[0m                 \u001B[38;5;124m'\u001B[39m\u001B[38;5;124mtwo-dimensional\u001B[39m\u001B[38;5;124m'\u001B[39m \u001B[38;5;241m%\u001B[39m a\u001B[38;5;241m.\u001B[39mndim)\n",
      "\u001B[1;31mLinAlgError\u001B[0m: 3-dimensional array given. Array must be two-dimensional"
     ]
    }
   ],
   "source": [
    "# results.model.fit(df['x'].to_numpy().reshape(1,-1))"
   ],
   "metadata": {
    "collapsed": false,
    "pycharm": {
     "name": "#%%\n"
    }
   }
  },
  {
   "cell_type": "code",
   "execution_count": 65,
   "outputs": [
    {
     "data": {
      "text/plain": "array([[7.99854482e+04, 1.59433963e+04, 1.98154043e+05, 9.46177150e+04,\n        3.28010205e+05, 7.34687120e+05, 6.86938467e+05, 1.48778650e+06,\n        2.77284685e+05, 4.14985974e+05, 6.21070574e+05, 3.81175397e+06,\n        4.21601109e+06, 1.97764027e+07, 1.97764027e+07, 7.71903566e+06,\n        1.97764027e+07],\n       [1.59433963e+04, 4.00140169e+03, 3.46967048e+04, 1.84127751e+04,\n        5.34445528e+04, 1.06681176e+05, 1.00709962e+05, 1.95321071e+05,\n        4.62769835e+04, 6.53818516e+04, 9.23739231e+04, 4.37486007e+05,\n        4.76965767e+05, 1.79407477e+06, 1.79407477e+06, 8.00987003e+05,\n        1.79407477e+06],\n       [1.98154043e+05, 3.46967048e+04, 5.28025576e+05, 2.37589578e+05,\n        9.10182129e+05, 2.17513220e+06, 2.02281366e+06, 4.66174314e+06,\n        7.59108502e+05, 1.17349848e+06, 1.81409994e+06, 1.28814648e+07,\n        1.43634882e+07, 7.62860005e+07, 7.62860005e+07, 2.76075543e+07,\n        7.62860005e+07],\n       [9.46177150e+04, 1.84127751e+04, 2.37589578e+05, 1.12206926e+05,\n        3.96249761e+05, 8.98246672e+05, 8.39028539e+05, 1.83820480e+06,\n        3.34134872e+05, 5.03077745e+05, 7.57440299e+05, 4.77593345e+06,\n        5.29037664e+06, 2.53934037e+07, 2.53934037e+07, 9.77364465e+06,\n        2.53934037e+07],\n       [3.28010205e+05, 5.34445528e+04, 9.10182129e+05, 3.96249761e+05,\n        1.60462397e+06, 3.97525717e+06, 3.68580680e+06, 8.79241521e+06,\n        1.32828607e+06, 2.09068015e+06, 3.29066424e+06, 2.53375996e+07,\n        2.83801354e+07, 1.61497464e+08, 1.61497464e+08, 5.60413293e+07,\n        1.61497464e+08],\n       [7.34687120e+05, 1.06681176e+05, 2.17513220e+06, 8.98246672e+05,\n        3.97525717e+06, 1.04321193e+07, 9.62620861e+06, 2.42663215e+07,\n        3.25141226e+06, 5.26715012e+06, 8.53256007e+06, 7.47903931e+07,\n        8.43765435e+07, 5.36190464e+08, 5.36190464e+08, 1.73971143e+08,\n        5.36190464e+08],\n       [6.86938467e+05, 1.00709962e+05, 2.02281366e+06, 8.39028539e+05,\n        3.68580680e+06, 9.62620861e+06, 8.88611052e+06, 2.22978317e+07,\n        3.01768337e+06, 4.87680085e+06, 7.88127302e+06, 6.83396033e+07,\n        7.70526876e+07, 4.85165195e+08, 4.85165195e+08, 1.58299600e+08,\n        4.85165195e+08],\n       [1.48778650e+06, 1.95321071e+05, 4.66174314e+06, 1.83820480e+06,\n        8.79241521e+06, 2.42663215e+07, 2.22978317e+07, 5.89912685e+07,\n        7.11631078e+06, 1.18223220e+07, 1.96404152e+07, 1.92826234e+08,\n        2.18916295e+08, 1.53224528e+09, 1.53224528e+09, 4.68759312e+08,\n        1.53224528e+09],\n       [2.77284685e+05, 4.62769835e+04, 7.59108502e+05, 3.34134872e+05,\n        1.32828607e+06, 3.25141226e+06, 3.01768337e+06, 7.11631078e+06,\n        1.10228957e+06, 1.72459017e+06, 2.69821230e+06, 2.02223705e+07,\n        2.26167197e+07, 1.25774352e+08, 1.25774352e+08, 4.42603588e+07,\n        1.25774352e+08],\n       [4.14985974e+05, 6.53818516e+04, 1.17349848e+06, 5.03077745e+05,\n        2.09068015e+06, 5.26715012e+06, 4.87680085e+06, 1.18223220e+07,\n        1.72459017e+06, 2.73734765e+06, 4.34484221e+06, 3.47433936e+07,\n        3.89971841e+07, 2.29175811e+08, 2.29175811e+08, 7.79828899e+07,\n        2.29175811e+08],\n       [6.21070574e+05, 9.23739231e+04, 1.81409994e+06, 7.57440299e+05,\n        3.29066424e+06, 8.53256007e+06, 7.88127302e+06, 1.96404152e+07,\n        2.69821230e+06, 4.34484221e+06, 6.99635600e+06, 5.96914887e+07,\n        6.72414210e+07, 4.17585554e+08, 4.17585554e+08, 1.37399047e+08,\n        4.17585554e+08],\n       [3.81175397e+06, 4.37486007e+05, 1.28814648e+07, 4.77593345e+06,\n        2.53375996e+07, 7.47903931e+07, 6.83396033e+07, 1.92826234e+08,\n        2.02223705e+07, 3.47433936e+07, 5.96914887e+07, 6.81699839e+08,\n        7.80464646e+08, 6.21356101e+09, 6.21356101e+09, 1.75757350e+09,\n        6.21356101e+09],\n       [4.21601109e+06, 4.76965767e+05, 1.43634882e+07, 5.29037664e+06,\n        2.83801354e+07, 8.43765435e+07, 7.70526876e+07, 2.18916295e+08,\n        2.26167197e+07, 3.89971841e+07, 6.72414210e+07, 7.80464646e+08,\n        8.94343064e+08, 7.21912795e+09, 7.21912795e+09, 2.02492804e+09,\n        7.21912795e+09],\n       [1.97764027e+07, 1.79407477e+06, 7.62860005e+07, 2.53934037e+07,\n        1.61497464e+08, 5.36190464e+08, 4.85165195e+08, 1.53224528e+09,\n        1.25774352e+08, 2.29175811e+08, 4.17585554e+08, 6.21356101e+09,\n        7.21912795e+09, 7.20048993e+10, 7.20048993e+10, 1.77561896e+10,\n        7.20048993e+10],\n       [1.97764027e+07, 1.79407477e+06, 7.62860005e+07, 2.53934037e+07,\n        1.61497464e+08, 5.36190464e+08, 4.85165195e+08, 1.53224528e+09,\n        1.25774352e+08, 2.29175811e+08, 4.17585554e+08, 6.21356101e+09,\n        7.21912795e+09, 7.20048993e+10, 7.20048993e+10, 1.77561896e+10,\n        7.20048993e+10],\n       [7.71903566e+06, 8.00987003e+05, 2.76075543e+07, 9.77364465e+06,\n        5.60413293e+07, 1.73971143e+08, 1.58299600e+08, 4.68759312e+08,\n        4.42603588e+07, 7.79828899e+07, 1.37399047e+08, 1.75757350e+09,\n        2.02492804e+09, 1.77561896e+10, 1.77561896e+10, 4.73572184e+09,\n        1.77561896e+10],\n       [1.97764027e+07, 1.79407477e+06, 7.62860005e+07, 2.53934037e+07,\n        1.61497464e+08, 5.36190464e+08, 4.85165195e+08, 1.53224528e+09,\n        1.25774352e+08, 2.29175811e+08, 4.17585554e+08, 6.21356101e+09,\n        7.21912795e+09, 7.20048993e+10, 7.20048993e+10, 1.77561896e+10,\n        7.20048993e+10]])"
     },
     "execution_count": 65,
     "metadata": {},
     "output_type": "execute_result"
    }
   ],
   "source": [
    "model.predict(df['x'].to_numpy().reshape(1,-1))"
   ],
   "metadata": {
    "collapsed": false,
    "pycharm": {
     "name": "#%%\n"
    }
   }
  },
  {
   "cell_type": "code",
   "execution_count": 56,
   "outputs": [
    {
     "data": {
      "text/plain": "array([[3.36, 2.88, 3.63, 3.41, 3.78, 4.02, 4.  , 4.23, 3.73, 3.85, 3.97,\n        4.51, 4.54, 5.  , 5.  , 4.72, 5.  ]])"
     },
     "execution_count": 56,
     "metadata": {},
     "output_type": "execute_result"
    }
   ],
   "source": [
    "df['x'].to_numpy().reshape(1,-1)"
   ],
   "metadata": {
    "collapsed": false,
    "pycharm": {
     "name": "#%%\n"
    }
   }
  },
  {
   "cell_type": "code",
   "execution_count": 37,
   "outputs": [
    {
     "data": {
      "text/plain": "(17,)"
     },
     "execution_count": 37,
     "metadata": {},
     "output_type": "execute_result"
    }
   ],
   "source": [
    "df['x'].shape"
   ],
   "metadata": {
    "collapsed": false,
    "pycharm": {
     "name": "#%%\n"
    }
   }
  },
  {
   "cell_type": "markdown",
   "source": [
    "res.mu"
   ],
   "metadata": {
    "collapsed": false,
    "pycharm": {
     "name": "#%% md\n"
    }
   }
  },
  {
   "cell_type": "code",
   "execution_count": 60,
   "outputs": [
    {
     "data": {
      "text/plain": "(17, 1)"
     },
     "execution_count": 60,
     "metadata": {},
     "output_type": "execute_result"
    }
   ],
   "source": [
    "df['x'].to_numpy().reshape(17,-1).shape"
   ],
   "metadata": {
    "collapsed": false,
    "pycharm": {
     "name": "#%%\n"
    }
   }
  },
  {
   "cell_type": "code",
   "execution_count": null,
   "outputs": [],
   "source": [],
   "metadata": {
    "collapsed": false,
    "pycharm": {
     "name": "#%%\n"
    }
   }
  }
 ],
 "metadata": {
  "kernelspec": {
   "display_name": "Python 3",
   "language": "python",
   "name": "python3"
  },
  "language_info": {
   "codemirror_mode": {
    "name": "ipython",
    "version": 2
   },
   "file_extension": ".py",
   "mimetype": "text/x-python",
   "name": "python",
   "nbconvert_exporter": "python",
   "pygments_lexer": "ipython2",
   "version": "2.7.6"
  }
 },
 "nbformat": 4,
 "nbformat_minor": 0
}